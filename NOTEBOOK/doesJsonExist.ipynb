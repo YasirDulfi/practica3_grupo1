{
 "cells": [
  {
   "cell_type": "markdown",
   "metadata": {},
   "source": [
    "Esta función se encarga de analizar si existe un JSON, si existe se devuelve true y se ejecuta el programa, en caso contrario se crea un archivo JSON y se ejecuta el programa"
   ]
  },
  {
   "cell_type": "code",
   "execution_count": 1,
   "metadata": {},
   "outputs": [],
   "source": [
    "import json\n",
    "import os"
   ]
  },
  {
   "cell_type": "code",
   "execution_count": 2,
   "metadata": {},
   "outputs": [],
   "source": [
    "#Se comprueba si el JSON existe y dependiendo \n",
    "def doesJsonExists():\n",
    "    print('execute doesJsonExists')\n",
    "    doesFileExists = os.path.exists(\"coches.json\")\n",
    "    print(\"coches.js existe: {}\".format(str(doesFileExists)))\n",
    "    if(doesFileExists == True):\n",
    "        return True\n",
    "    else:\n",
    "        with open('coches.json', 'w') as f:\n",
    "            f.write(\"ladsf\")"
   ]
  }
 ],
 "metadata": {
  "kernelspec": {
   "display_name": "Python 3 (ipykernel)",
   "language": "python",
   "name": "python3"
  },
  "language_info": {
   "codemirror_mode": {
    "name": "ipython",
    "version": 3
   },
   "file_extension": ".py",
   "mimetype": "text/x-python",
   "name": "python",
   "nbconvert_exporter": "python",
   "pygments_lexer": "ipython3",
   "version": "3.9.13"
  }
 },
 "nbformat": 4,
 "nbformat_minor": 2
}
