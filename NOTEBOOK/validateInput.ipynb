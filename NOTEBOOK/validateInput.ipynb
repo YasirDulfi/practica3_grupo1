{
 "cells": [
  {
   "cell_type": "markdown",
   "metadata": {},
   "source": [
    "Esta función se encarga de validar las variables"
   ]
  },
  {
   "cell_type": "code",
   "execution_count": null,
   "metadata": {},
   "outputs": [],
   "source": [
    "def validateInput(inputName, inputValue):\n",
    "    if((inputName == \"modelName\") and\n",
    "        (inputValue.isdigit() == False)): return True\n",
    "    if((inputName == \"littersOfOil\") and \n",
    "        (inputValue > 0)): return True\n",
    "    if((inputName == \"distance\") and \n",
    "        (inputValue > 0)): return True\n",
    "    if((inputName == \"peso\") and (1000>inputValue >2000)):\n",
    "        return True \n",
    "    return False"
   ]
  }
 ],
 "metadata": {
  "kernelspec": {
   "display_name": "Python 3 (ipykernel)",
   "language": "python",
   "name": "python3"
  },
  "language_info": {
   "codemirror_mode": {
    "name": "ipython",
    "version": 3
   },
   "file_extension": ".py",
   "mimetype": "text/x-python",
   "name": "python",
   "nbconvert_exporter": "python",
   "pygments_lexer": "ipython3",
   "version": "3.9.13"
  }
 },
 "nbformat": 4,
 "nbformat_minor": 2
}
