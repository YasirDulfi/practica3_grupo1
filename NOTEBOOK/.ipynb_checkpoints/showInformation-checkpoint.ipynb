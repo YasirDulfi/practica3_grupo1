{
 "cells": [
  {
   "cell_type": "code",
   "execution_count": 1,
   "metadata": {},
   "outputs": [],
   "source": [
    "import json\n",
    "from ipynb.fs.full.loadJson import loadJson"
   ]
  },
  {
   "cell_type": "code",
   "execution_count": 4,
   "metadata": {},
   "outputs": [],
   "source": [
    "def showInformation(modelName):\n",
    "    print('execution showInformation')\n",
    "    data = loadJson()\n",
    "    for car in data['cars']:\n",
    "        if(car['modelo'] == modelName):\n",
    "            print ('\\nPeso:', car['peso'])\n",
    "            print ('\\nCombustible:', car ['cargaCombustible'])\n",
    "            print ('\\nKm recorridos:', car['km'])\n",
    "            print ('\\nAutonomia:', car['autonomia'])\n",
    "            print ('')\n",
    "            return True\n",
    "    return False\n",
    "            \n",
    "           \n",
    "            \n",
    "    "
   ]
  },
  {
   "cell_type": "code",
   "execution_count": null,
   "metadata": {},
   "outputs": [],
   "source": []
  }
 ],
 "metadata": {
  "kernelspec": {
   "display_name": "Python 3 (ipykernel)",
   "language": "python",
   "name": "python3"
  },
  "language_info": {
   "codemirror_mode": {
    "name": "ipython",
    "version": 3
   },
   "file_extension": ".py",
   "mimetype": "text/x-python",
   "name": "python",
   "nbconvert_exporter": "python",
   "pygments_lexer": "ipython3",
   "version": "3.9.13"
  }
 },
 "nbformat": 4,
 "nbformat_minor": 2
}
