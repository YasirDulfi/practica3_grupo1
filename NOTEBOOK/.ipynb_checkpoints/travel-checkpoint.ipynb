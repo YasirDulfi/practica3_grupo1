{
 "cells": [
  {
   "cell_type": "markdown",
   "metadata": {},
   "source": [
    "Esta función se encarga de recorrer una distancia X con el coche que seleccione el cliente"
   ]
  },
  {
   "cell_type": "code",
   "execution_count": 1,
   "metadata": {},
   "outputs": [],
   "source": [
    "from ipynb.fs.full.loadJson import loadJson\n",
    "from ipynb.fs.full.writeJson import writeJson"
   ]
  },
  {
   "cell_type": "code",
   "execution_count": 2,
   "metadata": {},
   "outputs": [],
   "source": [
    "def travel(modelName, distance):\n",
    "    print('se ejecuta travel')\n",
    "    CONSUMO = 6\n",
    "    data = loadJson()\n",
    "\n",
    "    for car in data[\"cars\"]: \n",
    "        if car[\"modelo\"] == modelName:\n",
    "            autonomia = (car[\"cargaCombustible\"] *100 / CONSUMO) \n",
    "\n",
    "            if distance < autonomia:\n",
    "                autonomia_restante = (autonomia - distance)\n",
    "                car['autonomia'] = autonomia_restante\n",
    "                car[\"km\"] = car[\"km\"] + distance\n",
    "                print(\"Has recorrido {} y te quedan {} de autonomía\".format (distance,autonomia_restante))\n",
    "                writeJson(data)\n",
    "            else:\n",
    "                print(\"No tienes suficiente combustible para recorrer {} km\".format(distance))\n",
    "                print('-----------------------------------------------------------')\n",
    "\n",
    "                return False\n",
    "            return True\n",
    "    return False"
   ]
  }
 ],
 "metadata": {
  "kernelspec": {
   "display_name": "Python 3 (ipykernel)",
   "language": "python",
   "name": "python3"
  },
  "language_info": {
   "codemirror_mode": {
    "name": "ipython",
    "version": 3
   },
   "file_extension": ".py",
   "mimetype": "text/x-python",
   "name": "python",
   "nbconvert_exporter": "python",
   "pygments_lexer": "ipython3",
   "version": "3.9.13"
  }
 },
 "nbformat": 4,
 "nbformat_minor": 2
}
