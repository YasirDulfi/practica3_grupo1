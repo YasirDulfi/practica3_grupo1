{
 "cells": [
  {
   "cell_type": "markdown",
   "metadata": {},
   "source": [
    "Esta función se encarga de añadir un coche preguntándole al clente la información necesaria, dicha información se valida y se guarda en el JSON"
   ]
  },
  {
   "cell_type": "code",
   "execution_count": null,
   "metadata": {},
   "outputs": [],
   "source": [
    "import json\n",
    "from ipynb.fs.full.writeJson import writeJson\n",
    "from ipynb.fs.full.loadJson import loadJson\n",
    "from ipynb.fs.full.doesCarExist import  doesCarExist                        "
   ]
  },
  {
   "cell_type": "code",
   "execution_count": 3,
   "metadata": {},
   "outputs": [],
   "source": [
    "def addCar():\n",
    "    print(\"Se ejecuta addCard\")\n",
    "    data = loadJson()\n",
    "\n",
    "    \"\"\"Bucle que se asegura de que el valor introducido siga los estándares definidos\n",
    "    en validateInput, en caso de que alguno de estos no sea valido se resolicitará dicha\n",
    "    información mostrando anteriormente un errorMessage\"\"\"\n",
    "    isCarInfoValid = False\n",
    "    while isCarInfoValid == False:\n",
    "        carModel = input('Introduzca el nombre del modelo:  ').strip().lower()\n",
    "        try:\n",
    "            carWeight = float(input('Introduzca el peso del coche: '))\n",
    "        except:\n",
    "            print('Introduzca un número que sea válido')\n",
    "\n",
    "        if(doesCarExist(carModel)== False):\n",
    "            carInfo = {\n",
    "                \"modelo\": carModel,\n",
    "                \"peso\": carWeight,\n",
    "                \"cargaCombustible\": 0,\n",
    "                \"km\": 0,\n",
    "                \"autonomia\": 0\n",
    "            }\n",
    "            data['cars'].append(carInfo)\n",
    "            writeJson(data)\n",
    "\n",
    "            print (\"Su coche modelo {} dispone de 0 autonomía\".format(carModel))\n",
    "            print (\"Su coche modelo {} ha recorrido 0 km\".format(carModel))\n",
    "\n",
    "            return True\n",
    "        else:\n",
    "            print(\"Éste modelo ya existe, introduzca uno nuevo \\n\")\n",
    "            return False"
   ]
  },
  {
   "cell_type": "code",
   "execution_count": null,
   "metadata": {},
   "outputs": [],
   "source": []
  }
 ],
 "metadata": {
  "kernelspec": {
   "display_name": "Python 3 (ipykernel)",
   "language": "python",
   "name": "python3"
  },
  "language_info": {
   "codemirror_mode": {
    "name": "ipython",
    "version": 3
   },
   "file_extension": ".py",
   "mimetype": "text/x-python",
   "name": "python",
   "nbconvert_exporter": "python",
   "pygments_lexer": "ipython3",
   "version": "3.9.13"
  }
 },
 "nbformat": 4,
 "nbformat_minor": 2
}
