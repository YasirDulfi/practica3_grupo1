{
 "cells": [
  {
   "cell_type": "code",
   "execution_count": 1,
   "metadata": {},
   "outputs": [],
   "source": [
    "import json\n",
    "from ipynb.fs.full.writeJson import writeJson\n",
    "from ipynb.fs.full.loadJson import loadJson"
   ]
  },
  {
   "cell_type": "code",
   "execution_count": 2,
   "metadata": {},
   "outputs": [],
   "source": [
    "def addOil(modelName, littersOfOil):\n",
    "    print('execution addOil')\n",
    "    CONSUMO = 6\n",
    "    data = loadJson()\n",
    "    for car in data ['cars']:\n",
    "        if ((car['modelo'] == modelName) and (int(car['cargaCombustible']) + littersOfOil <= 60)):                                          \n",
    "           car['cargaCombustible'] = float(littersOfOil) + car['cargaCombustible']\n",
    "           car['autonomia'] = (car['cargaCombustible'])*100/CONSUMO\n",
    "           autonomia = 6 * float(car['cargaCombustible'])\n",
    "           print('Tiene {aut} de autonomia'.format(aut = str(autonomia)))                \n",
    "           writeJson(data)\n",
    "           return True        \n",
    "        if ((car['modelo'] == modelName) and (int(car['cargaCombustible']) + littersOfOil > 60)):\n",
    "            max = 60 - int(car['cargaCombustible'])\n",
    "            print('Ha excedido el limite de 60 litros')\n",
    "            print('Puede añadir un maximo de {maxLiters}'.format(maxLiters = str(max)))\n",
    "            print('-----------------------------------------------------------')\n",
    "            return False \n",
    "    return False\n",
    "        \n",
    "        "
   ]
  },
  {
   "cell_type": "code",
   "execution_count": null,
   "metadata": {},
   "outputs": [],
   "source": []
  }
 ],
 "metadata": {
  "kernelspec": {
   "display_name": "Python 3 (ipykernel)",
   "language": "python",
   "name": "python3"
  },
  "language_info": {
   "codemirror_mode": {
    "name": "ipython",
    "version": 3
   },
   "file_extension": ".py",
   "mimetype": "text/x-python",
   "name": "python",
   "nbconvert_exporter": "python",
   "pygments_lexer": "ipython3",
   "version": "3.9.13"
  }
 },
 "nbformat": 4,
 "nbformat_minor": 2
}
