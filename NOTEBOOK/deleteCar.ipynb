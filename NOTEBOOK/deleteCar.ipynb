{
 "cells": [
  {
   "cell_type": "markdown",
   "metadata": {},
   "source": [
    "Esta función se encarga de encontrar el coche correspondiente y eleminarlo del JSON"
   ]
  },
  {
   "cell_type": "code",
   "execution_count": 1,
   "metadata": {},
   "outputs": [],
   "source": [
    "from ipynb.fs.full.writeJson import writeJson\n",
    "from ipynb.fs.full.loadJson import loadJson"
   ]
  },
  {
   "cell_type": "code",
   "execution_count": 2,
   "metadata": {},
   "outputs": [],
   "source": [
    "def deleteCar(modelName):\n",
    "    print('execution deleteCar')\n",
    "    data = loadJson()\n",
    "    \"\"\"\n",
    "    Se itera en cada coche en busqueda del modelo\n",
    "    que se ha de eliminar.\n",
    "    Como el JSON tiene guardado a cars en un array\n",
    "    he decidio crear una variable i\n",
    "    la cual en cada iteración añade un +1 el\n",
    "    cual nos sirve para hallar el index del objeto a \n",
    "    eliminar\n",
    "    \"\"\"\n",
    "    i = 0\n",
    "    for car in data['cars']:\n",
    "        \n",
    "        if(car['modelo'] == modelName):\n",
    "            del data['cars'][i]\n",
    "            writeJson(data)\n",
    "            return True\n",
    "        i = i+1"
   ]
  },
  {
   "cell_type": "code",
   "execution_count": null,
   "metadata": {},
   "outputs": [],
   "source": []
  }
 ],
 "metadata": {
  "kernelspec": {
   "display_name": "Python 3 (ipykernel)",
   "language": "python",
   "name": "python3"
  },
  "language_info": {
   "codemirror_mode": {
    "name": "ipython",
    "version": 3
   },
   "file_extension": ".py",
   "mimetype": "text/x-python",
   "name": "python",
   "nbconvert_exporter": "python",
   "pygments_lexer": "ipython3",
   "version": "3.9.13"
  }
 },
 "nbformat": 4,
 "nbformat_minor": 2
}
