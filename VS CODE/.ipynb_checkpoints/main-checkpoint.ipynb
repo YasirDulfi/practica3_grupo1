{
 "cells": [
  {
   "cell_type": "code",
   "execution_count": 1,
   "metadata": {},
   "outputs": [],
   "source": [
    "import json\n",
    "import os\n",
    "from models.showInformation import showInformation\n",
    "from models.restKm import resetKm\n",
    "from models.deleteCar import deleteCar\n",
    "from models.addCar import addCar\n",
    "from models.addOil import addOil\n",
    "from models.travel import travel"
   ]
  },
  {
   "cell_type": "code",
   "execution_count": 2,
   "metadata": {},
   "outputs": [],
   "source": [
    "from utils.doesJsonExist import doesJsonExists\n",
    "from utils.validateInput import validateInput"
   ]
  },
  {
   "cell_type": "code",
   "execution_count": 3,
   "metadata": {},
   "outputs": [],
   "source": [
    "def main():\n",
    "    \"\"\"\n",
    "        1ºSe verifica si existe el json y si no se crea\n",
    "        2ºSe muestra un menu en donde el cliente debe de escoger \n",
    "          una opción que cuadre dentro de las presentadas si no se \n",
    "          entrara en un bucle hasta que se cumpla de \n",
    "    \"\"\"\n",
    "    doesJsonExists()\n",
    "    isMenuOpen = True\n",
    "    while isMenuOpen ==  True:\n",
    "        print('1º Mostramos la informacíon de los diferentes vehiculos /n')\n",
    "        print('2º Añada un nuevo vehiculo a la lista /n')\n",
    "        print('3º Añade combustible /n')\n",
    "        print('4º Recorremos distancia /n')\n",
    "        print('5º Resear el kilometraje de un vehiculo /n')\n",
    "        print('6º Eliminar un vehiculo /n')\n",
    "        print('0º Salir')\n",
    "        isInputValid = False\n",
    "        while isInputValid == False: \n",
    "            enteredOption = int(input('Introduzca el numero de la opción que desee: '))\n",
    "            if(isinstance(enteredOption, int)) : isInputValid = True \n",
    "            if( (enteredOption < 0) and (enteredOption >5)): isInputValid = False \n",
    "\n",
    "        #Menu\n",
    "        if(enteredOption < 0) : print('/n Introduzca un valor preestablecio /n') \n",
    "        if(enteredOption > 0) : optionManagement(enteredOption)\n",
    "        if(enteredOption == 0) : \n",
    "            print('/n Esperamos que le haya gustado el programa /n')\n",
    "            isMenuOpen = False"
   ]
  },
  {
   "cell_type": "code",
   "execution_count": 7,
   "metadata": {},
   "outputs": [],
   "source": [
    "def optionManagement(option) :\n",
    "    goBackMsg = '/n Si desea volver al menu pulse 0 en caso contrario introduzca cualquier otro valor'\n",
    "    if option == 1:\n",
    "        funtionIsDone = False\n",
    "        while not funtionIsDone:\n",
    "            try:\n",
    "                modelName = input('1º Introduce el nombre del modelo:')\n",
    "                print(modelName)\n",
    "                if(validateInput('modelName', modelName) == True):\n",
    "                    if showInformation() == True : funtionIsDone = True\n",
    "                else:\n",
    "                    raise Exception('/n Valor incorrecto, recuerde que el nombre del modelo no debe de llevar solo numeros')\n",
    "            except Exception as errorMsg:\n",
    "                print(errorMsg)\n",
    "                returnMenu = input(goBackMsg)\n",
    "                if(returnMenu == '0') : funtionIsDone = True\n",
    "               \n",
    "    if option == 2:\n",
    "        funtionIsDone = False\n",
    "        while not funtionIsDone:\n",
    "            try:\n",
    "                if addCar() == True : funtionIsDone = True\n",
    "            except Exception as errorMsg:\n",
    "                print(errorMsg)\n",
    "                returnMenu = input(goBackMsg)\n",
    "                if(returnMenu == '0') : funtionIsDone = True\n",
    "    if option == 3:\n",
    "        funtionIsDone = False\n",
    "        while not funtionIsDone:\n",
    "            try:\n",
    "                modelName = input('-Introduce el nombre del modelo:')\n",
    "                littersOfOil = int(input('-Introduce cuantos litros se desea añadir:'))\n",
    "                if((validateInput('modelName', modelName) == True) \n",
    "                and (validateInput(\"littersOfOil\", littersOfOil )) ):\n",
    "                    if addOil() == True : funtionIsDone = True\n",
    "                else:\n",
    "                    raise Exception('/n Valor incorrecto, recuerde que el nombre del modelo no debe de llevar solo numeros')\n",
    "            except Exception as errorMsg:\n",
    "                print(errorMsg)\n",
    "                returnMenu = input(goBackMsg)\n",
    "                if(returnMenu == '0') : funtionIsDone = True\n",
    "    \n",
    "    if option == 4:\n",
    "        funtionIsDone = False\n",
    "        while not funtionIsDone:\n",
    "            try:\n",
    "                modelName = input('1º Introduce el nombre del modelo:')\n",
    "                print(modelName)\n",
    "                distance = input('Distancia a recorrer :')\n",
    "                print(distance)\n",
    "                if((validateInput('modelName', modelName) == True) \n",
    "                and (validateInput('distance', distance) == True)):\n",
    "                    if travel() == True : funtionIsDone = True\n",
    "                else:\n",
    "                    raise Exception('/n Valor incorrecto, recuerde que el nombre del modelo no debe de llevar solo numeros')\n",
    "            except Exception as errorMsg:\n",
    "                print(errorMsg)\n",
    "                returnMenu = input(goBackMsg)\n",
    "                if(returnMenu == '0') : funtionIsDone = True\n",
    "    if option == 5:\n",
    "        funtionIsDone = False\n",
    "        while not funtionIsDone:\n",
    "            try:\n",
    "                modelName = input('1º Introduce el nombre del modelo:')\n",
    "                if(validateInput('modelName', modelName) == True):\n",
    "                    if resetKm(modelName) == True : funtionIsDone = True\n",
    "                else:\n",
    "                    raise Exception('/n Valor incorrecto, recuerde que el nombre del modelo no debe de llevar solo numeros')\n",
    "            except Exception as errorMsg:\n",
    "                print(errorMsg)\n",
    "                returnMenu = input(goBackMsg)\n",
    "                if(returnMenu == '0') : funtionIsDone = True\n",
    "    \n",
    "    if option == 6:\n",
    "        funtionIsDone = False\n",
    "        while not funtionIsDone:\n",
    "            try:\n",
    "                modelName = input('1º Introduce el nombre del modelo:')\n",
    "                \n",
    "                if(validateInput('modelName', modelName) == True):\n",
    "                    if deleteCar(modelName) == True : funtionIsDone = True\n",
    "                else:\n",
    "                    raise Exception('/n Valor incorrecto, recuerde que el nombre del modelo no debe de llevar solo numeros')\n",
    "            except Exception as errorMsg:\n",
    "                print(errorMsg)\n",
    "                returnMenu = input(goBackMsg)\n",
    "                if(returnMenu == '0') : funtionIsDone = True"
   ]
  },
  {
   "cell_type": "code",
   "execution_count": 8,
   "metadata": {},
   "outputs": [
    {
     "name": "stdout",
     "output_type": "stream",
     "text": [
      "execute doesJsonExists\n"
     ]
    },
    {
     "ename": "TypeError",
     "evalue": "write() argument must be str, not dict",
     "output_type": "error",
     "traceback": [
      "\u001b[0;31m---------------------------------------------------------------------------\u001b[0m",
      "\u001b[0;31mTypeError\u001b[0m                                 Traceback (most recent call last)",
      "\u001b[0;32m/var/folders/cp/x7gk47192qv_jdysw8zkn7zm0000gn/T/ipykernel_48221/451043146.py\u001b[0m in \u001b[0;36m<module>\u001b[0;34m\u001b[0m\n\u001b[0;32m----> 1\u001b[0;31m \u001b[0mmain\u001b[0m\u001b[0;34m(\u001b[0m\u001b[0;34m)\u001b[0m\u001b[0;34m\u001b[0m\u001b[0;34m\u001b[0m\u001b[0m\n\u001b[0m",
      "\u001b[0;32m/var/folders/cp/x7gk47192qv_jdysw8zkn7zm0000gn/T/ipykernel_48221/604281632.py\u001b[0m in \u001b[0;36mmain\u001b[0;34m()\u001b[0m\n\u001b[1;32m      6\u001b[0m           \u001b[0mentrara\u001b[0m \u001b[0men\u001b[0m \u001b[0mun\u001b[0m \u001b[0mbucle\u001b[0m \u001b[0mhasta\u001b[0m \u001b[0mque\u001b[0m \u001b[0mse\u001b[0m \u001b[0mcumpla\u001b[0m \u001b[0mde\u001b[0m\u001b[0;34m\u001b[0m\u001b[0;34m\u001b[0m\u001b[0m\n\u001b[1;32m      7\u001b[0m     \"\"\"\n\u001b[0;32m----> 8\u001b[0;31m     \u001b[0mdoesJsonExists\u001b[0m\u001b[0;34m(\u001b[0m\u001b[0;34m)\u001b[0m\u001b[0;34m\u001b[0m\u001b[0;34m\u001b[0m\u001b[0m\n\u001b[0m\u001b[1;32m      9\u001b[0m     \u001b[0misMenuOpen\u001b[0m \u001b[0;34m=\u001b[0m \u001b[0;32mTrue\u001b[0m\u001b[0;34m\u001b[0m\u001b[0;34m\u001b[0m\u001b[0m\n\u001b[1;32m     10\u001b[0m     \u001b[0;32mwhile\u001b[0m \u001b[0misMenuOpen\u001b[0m \u001b[0;34m==\u001b[0m  \u001b[0;32mTrue\u001b[0m\u001b[0;34m:\u001b[0m\u001b[0;34m\u001b[0m\u001b[0;34m\u001b[0m\u001b[0m\n",
      "\u001b[0;32m~/Desktop/Data Science Bootcamp/1º/Programación/utils/doesJsonExist.py\u001b[0m in \u001b[0;36mdoesJsonExists\u001b[0;34m()\u001b[0m\n\u001b[1;32m     11\u001b[0m     \u001b[0;32melse\u001b[0m\u001b[0;34m:\u001b[0m\u001b[0;34m\u001b[0m\u001b[0;34m\u001b[0m\u001b[0m\n\u001b[1;32m     12\u001b[0m         \u001b[0;32mwith\u001b[0m \u001b[0mopen\u001b[0m\u001b[0;34m(\u001b[0m\u001b[0;34m'coches.json'\u001b[0m\u001b[0;34m,\u001b[0m \u001b[0;34m'w'\u001b[0m\u001b[0;34m)\u001b[0m \u001b[0;32mas\u001b[0m \u001b[0mf\u001b[0m\u001b[0;34m:\u001b[0m\u001b[0;34m\u001b[0m\u001b[0;34m\u001b[0m\u001b[0m\n\u001b[0;32m---> 13\u001b[0;31m             \u001b[0mf\u001b[0m\u001b[0;34m.\u001b[0m\u001b[0mwrite\u001b[0m\u001b[0;34m(\u001b[0m\u001b[0;34m{\u001b[0m\u001b[0;34m\"cars\"\u001b[0m\u001b[0;34m:\u001b[0m\u001b[0;34m[\u001b[0m\u001b[0;34m]\u001b[0m\u001b[0;34m}\u001b[0m\u001b[0;34m)\u001b[0m\u001b[0;34m\u001b[0m\u001b[0;34m\u001b[0m\u001b[0m\n\u001b[0m",
      "\u001b[0;31mTypeError\u001b[0m: write() argument must be str, not dict"
     ]
    }
   ],
   "source": [
    "main()"
   ]
  },
  {
   "cell_type": "code",
   "execution_count": null,
   "metadata": {},
   "outputs": [],
   "source": []
  }
 ],
 "metadata": {
  "kernelspec": {
   "display_name": "Python 3 (ipykernel)",
   "language": "python",
   "name": "python3"
  },
  "language_info": {
   "codemirror_mode": {
    "name": "ipython",
    "version": 3
   },
   "file_extension": ".py",
   "mimetype": "text/x-python",
   "name": "python",
   "nbconvert_exporter": "python",
   "pygments_lexer": "ipython3",
   "version": "3.9.13"
  }
 },
 "nbformat": 4,
 "nbformat_minor": 2
}
